{
 "cells": [
  {
   "cell_type": "markdown",
   "metadata": {},
   "source": [
    "## This is a test"
   ]
  },
  {
   "cell_type": "code",
   "execution_count": 1,
   "metadata": {},
   "outputs": [],
   "source": [
    "import os\n",
    "\n",
    "from node import Node"
   ]
  },
  {
   "cell_type": "code",
   "execution_count": 2,
   "metadata": {},
   "outputs": [],
   "source": [
    "current_dir = os.getcwd()\n",
    "\n",
    "node_home = Node(\"Home_node\", \"Bogotá\", current_dir, [\"eGEO_1.json\", \"eGEO_2.json\"])"
   ]
  },
  {
   "cell_type": "code",
   "execution_count": 3,
   "metadata": {},
   "outputs": [
    {
     "data": {
      "text/plain": [
       "{'eGEO_1': <node.devices.device.Device at 0x2acda6dc980>,\n",
       " 'eGEO_2': <node.devices.device.Device at 0x2acda4daad0>}"
      ]
     },
     "execution_count": 3,
     "metadata": {},
     "output_type": "execute_result"
    }
   ],
   "source": [
    "node_home.devices"
   ]
  },
  {
   "cell_type": "code",
   "execution_count": 4,
   "metadata": {},
   "outputs": [
    {
     "name": "stdout",
     "output_type": "stream",
     "text": [
      "The following are the devices cofigured: \n",
      "-> eGEO_hogar_1\n",
      "Following are the varibles to this device: \n",
      "dict_keys(['getTemp', 'getFrequency', 'getPAngleA', 'getPAngleB', 'getPAngleC', 'getUangleA', 'getUangleB', 'getUangleC', 'getPowerA', 'getPowerB', 'getPowerC', 'getPowerT', 'getQPowerA', 'getQPowerB', 'getQPowerC', 'getQPowerT', 'getApparentPowerA', 'getApparentPowerB', 'getApparentPowerC', 'getApparentPowerT', 'getPFA', 'getPFB', 'getPFC', 'getPFT', 'getVoltageA', 'getVoltageB', 'getVoltageC', 'getCurrentA', 'getCurrentB', 'getCurrentC', 'getTHDNUA', 'getTHDNUB', 'getTHDNUC', 'getTHDNIA', 'getTHDNIB', 'getTHDNIC'])\n",
      "-> eGEO_hogar_2\n",
      "Following are the varibles to this device: \n",
      "dict_keys(['getTemp', 'getFrequency', 'getPAngleA', 'getPAngleB', 'getPAngleC', 'getUangleA', 'getUangleB', 'getUangleC', 'getPowerA', 'getPowerB', 'getPowerC', 'getPowerT', 'getQPowerA', 'getQPowerB', 'getQPowerC', 'getQPowerT', 'getApparentPowerA', 'getApparentPowerB', 'getApparentPowerC', 'getApparentPowerT', 'getPFA', 'getPFB', 'getPFC', 'getPFT', 'getVoltageA', 'getVoltageB', 'getVoltageC', 'getCurrentA', 'getCurrentB', 'getCurrentC', 'getTHDNUA', 'getTHDNUB', 'getTHDNUC', 'getTHDNIA', 'getTHDNIB', 'getTHDNIC'])\n"
     ]
    }
   ],
   "source": [
    "print(\"The following are the devices cofigured: \")\n",
    "for device_key in node_home.devices.keys():\n",
    "    print (f\"-> {node_home.devices[device_key].name}\")\n",
    "    print(\"Following are the varibles to this device: \")\n",
    "    print(node_home.devices[device_key].varibles.keys())\n",
    "\n",
    "\n"
   ]
  }
 ],
 "metadata": {
  "kernelspec": {
   "display_name": "Python 3",
   "language": "python",
   "name": "python3"
  },
  "language_info": {
   "codemirror_mode": {
    "name": "ipython",
    "version": 3
   },
   "file_extension": ".py",
   "mimetype": "text/x-python",
   "name": "python",
   "nbconvert_exporter": "python",
   "pygments_lexer": "ipython3",
   "version": "3.13.0"
  }
 },
 "nbformat": 4,
 "nbformat_minor": 2
}
